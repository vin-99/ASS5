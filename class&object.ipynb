{
 "cells": [
  {
   "cell_type": "code",
   "execution_count": 16,
   "id": "140473f4",
   "metadata": {},
   "outputs": [],
   "source": [
    "class Myclass:\n",
    "    def __init__(self, number, times):\n",
    "        self.num = number\n",
    "        self.tim = times\n",
    "        \n",
    "    def mul(self):\n",
    "        count = 1\n",
    "        for i in range(self.tim):\n",
    "            count*=self.num\n",
    "        return count"
   ]
  },
  {
   "cell_type": "code",
   "execution_count": 17,
   "id": "afd6e740",
   "metadata": {},
   "outputs": [],
   "source": [
    "no = Myclass(10,2)"
   ]
  },
  {
   "cell_type": "code",
   "execution_count": 18,
   "id": "10419d99",
   "metadata": {},
   "outputs": [
    {
     "data": {
      "text/plain": [
       "100"
      ]
     },
     "execution_count": 18,
     "metadata": {},
     "output_type": "execute_result"
    }
   ],
   "source": [
    "no.mul()"
   ]
  }
 ],
 "metadata": {
  "kernelspec": {
   "display_name": "Python 3 (ipykernel)",
   "language": "python",
   "name": "python3"
  },
  "language_info": {
   "codemirror_mode": {
    "name": "ipython",
    "version": 3
   },
   "file_extension": ".py",
   "mimetype": "text/x-python",
   "name": "python",
   "nbconvert_exporter": "python",
   "pygments_lexer": "ipython3",
   "version": "3.10.1"
  }
 },
 "nbformat": 4,
 "nbformat_minor": 5
}
